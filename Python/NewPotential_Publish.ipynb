{
 "metadata": {
  "name": "",
  "signature": "sha256:ee7994a34615576704ca4f779d256d3e5fd63df9cfb645195f9b9ea136092513"
 },
 "nbformat": 3,
 "nbformat_minor": 0,
 "worksheets": [
  {
   "cells": [
    {
     "cell_type": "code",
     "collapsed": false,
     "input": [
      "%load_ext autoreload\n",
      "%autoreload 2\n",
      "import numpy as np\n",
      "import newpotential_publish as mdunp\n",
      "import scipy.interpolate as spi\n",
      "import collections\n",
      "import scipy.optimize as spo\n",
      "import matplotlib as mpl\n",
      "import matplotlib.pyplot as plt\n",
      "%matplotlib qt"
     ],
     "language": "python",
     "metadata": {},
     "outputs": [],
     "prompt_number": 2
    },
    {
     "cell_type": "code",
     "collapsed": false,
     "input": [
      "# Note: Initialize plotting utilities (at bottom) before running notebook"
     ],
     "language": "python",
     "metadata": {},
     "outputs": []
    },
    {
     "cell_type": "heading",
     "level": 1,
     "metadata": {},
     "source": [
      "New potential (2D)"
     ]
    },
    {
     "cell_type": "heading",
     "level": 2,
     "metadata": {},
     "source": [
      "Potential Generation"
     ]
    },
    {
     "cell_type": "heading",
     "level": 3,
     "metadata": {},
     "source": [
      "Potentials used in paper (2D)"
     ]
    },
    {
     "cell_type": "code",
     "collapsed": false,
     "input": [
      "potlist = ['G','F','E','D','C','B','A'] # names of potentials in 2D\n",
      "potentialsstd = collections.OrderedDict()\n",
      "for ductilityindex, potname in enumerate(potlist):\n",
      "    potentialsstd[potname] = mdunp.gen_std_potential(ductilityindex,dimensions=2)"
     ],
     "language": "python",
     "metadata": {},
     "outputs": [],
     "prompt_number": 14
    },
    {
     "cell_type": "heading",
     "level": 3,
     "metadata": {},
     "source": [
      "Potential with desired unstable stacking fault energy (2D)"
     ]
    },
    {
     "cell_type": "code",
     "collapsed": false,
     "input": [
      "potentialsother = collections.OrderedDict()\n",
      "potentialsother['usf04'] = mdunp.gen_usf_potential(usftarget=0.4,dimensions=2)"
     ],
     "language": "python",
     "metadata": {},
     "outputs": [],
     "prompt_number": 13
    },
    {
     "cell_type": "heading",
     "level": 2,
     "metadata": {},
     "source": [
      "Energy/force plots"
     ]
    },
    {
     "cell_type": "code",
     "collapsed": false,
     "input": [
      "rvecdefault = np.linspace(0.1,2.0,3000)\n",
      "colors = ['k','r','b','g','c','y','m'][::-1]\n",
      "linedict = lineDictStandard(color=colors,linestyle=['-']*10)"
     ],
     "language": "python",
     "metadata": {},
     "outputs": [],
     "prompt_number": 16
    },
    {
     "cell_type": "code",
     "collapsed": false,
     "input": [
      "def gen_force_data_for_plot(potentialsdict,rvec=rvecdefault):\n",
      "    plotall = []\n",
      "    for potential in potentialsdict.values():\n",
      "        datacurr = potential.get_force_table(rvec)\n",
      "        datacurr[:,1] = -datacurr[:,1] # negative force is easier to visualize\n",
      "        plotall.append(datacurr)\n",
      "    return plotall\n",
      "\n",
      "def gen_energy_data_for_plot(potentialsdict,rvec=rvecdefault):\n",
      "    plotall = []\n",
      "    for potential in potentialsdict.values():\n",
      "        datacurr = potential.get_energy_table(rvec)\n",
      "        plotall.append(datacurr)\n",
      "    return plotall"
     ],
     "language": "python",
     "metadata": {},
     "outputs": [],
     "prompt_number": 25
    },
    {
     "cell_type": "heading",
     "level": 3,
     "metadata": {},
     "source": [
      "Energy"
     ]
    },
    {
     "cell_type": "code",
     "collapsed": false,
     "input": [
      "energydataall = gen_energy_data_for_plot(potentialsstd)\n",
      "line_plot(energydataall[::-1],axis=[0.75,2,-1,1],xlabel='Radius, $r$',ylabel='Energy',linedict=linedict)"
     ],
     "language": "python",
     "metadata": {},
     "outputs": [],
     "prompt_number": 26
    },
    {
     "cell_type": "code",
     "collapsed": false,
     "input": [
      "energydataallother = gen_energy_data_for_plot(potentialsother)\n",
      "line_plot(energydataallother[::-1],axis=[0.75,2,-1,3],xlabel='Radius, $r$',ylabel='(Negative) force',linedict=linedict)"
     ],
     "language": "python",
     "metadata": {},
     "outputs": [],
     "prompt_number": 27
    },
    {
     "cell_type": "heading",
     "level": 3,
     "metadata": {},
     "source": [
      "Force"
     ]
    },
    {
     "cell_type": "code",
     "collapsed": false,
     "input": [
      "forcedataall = gen_force_data_for_plot(potentialsstd)\n",
      "line_plot(forcedataall[::-1],axis=[0.75,2,-1,3],xlabel='Radius, $r$',ylabel='(Negative) force',linedict=linedict)"
     ],
     "language": "python",
     "metadata": {},
     "outputs": [],
     "prompt_number": 28
    },
    {
     "cell_type": "code",
     "collapsed": false,
     "input": [
      "forcedataallother = gen_force_data_for_plot(potentialsother)\n",
      "line_plot(forcedataallother[::-1],axis=[0.75,2,-1,3],xlabel='Radius, $r$',ylabel='(Negative) force',linedict=linedict)"
     ],
     "language": "python",
     "metadata": {},
     "outputs": [],
     "prompt_number": 29
    },
    {
     "cell_type": "heading",
     "level": 1,
     "metadata": {},
     "source": [
      "Plotting Utilities"
     ]
    },
    {
     "cell_type": "code",
     "collapsed": false,
     "input": [
      "colors = ['k','r','b','g','m','c','y']\n",
      "linestyles = ['-','--','-.',':']\n",
      "\n",
      "def line_plot(data,linedict=None,scale=[1,1],xlabel=None,ylabel=None,axis=None,legendlabels=None,legendlocation=2,fontsize1=21,fontsize2=18,ticksize=[8,2],figuresize=[8,6],borderwidth=2,font='Arial',fignum=1):\n",
      "    plt.figure(fignum,figsize=figuresize)\n",
      "    plt.clf()\n",
      "    preProcessPlot(font)\n",
      "    if linedict is None:\n",
      "        linedict = lineDictStandard()\n",
      "    for i, datacurr in enumerate(data):\n",
      "        linedictcurr = writeNewDict(linedict,i)\n",
      "        if len(datacurr) == 2: # x and y specified individually\n",
      "            line, = plt.plot(scale[0]*datacurr[0],scale[1]*datacurr[1],**linedictcurr)\n",
      "        else: # in single array\n",
      "            line, = plt.plot(scale[0]*datacurr[:,0],scale[1]*datacurr[:,1],**linedictcurr)\n",
      "        if legendlabels is not None:\n",
      "            line.set_label(legendlabels[i])\n",
      "    postProcessPlot(xlabel,ylabel,axis,legendlabels,legendlocation,fontsize1,fontsize2,ticksize,borderwidth)\n",
      "\n",
      "def preProcessPlot(font):\n",
      "    mpl.rcParams['font.sans-serif'] = font\n",
      "    mpl.rcParams['pdf.fonttype'] = 42\n",
      "    \n",
      "def postProcessPlot(xlabel,ylabel,axis,legendlabels,legendlocation,fontsize1,fontsize2,ticksize,borderwidth):\n",
      "    if xlabel is not None:\n",
      "        plt.xlabel(xlabel,fontsize=fontsize1)\n",
      "    if ylabel is not None:\n",
      "        plt.ylabel(ylabel,fontsize=fontsize1)\n",
      "    if axis is not None:\n",
      "        plt.axis(axis)\n",
      "    ax = plt.gca()\n",
      "    for axis in ['top','bottom','left','right']:\n",
      "        ax.spines[axis].set_linewidth(borderwidth)    \n",
      "    plt.legend(loc=legendlocation,fontsize=fontsize2)\n",
      "    plt.tick_params(axis='both',labelsize=fontsize2,width=ticksize[1],length=ticksize[0])\n",
      "    plt.tight_layout()\n",
      "    plt.show()\n",
      "\n",
      "def genLabels(numvec,label):\n",
      "    return [label + ' = ' + str(num) for num in numvec]\n",
      "    \n",
      "def alternatingList(stringlist,n,nuniques):\n",
      "    return stringlist[0:nuniques]*(n//nuniques)\n",
      "    \n",
      "def alternatingList2(stringlist,n,nuniques):\n",
      "    listfinal = []\n",
      "    for i in range(nuniques):\n",
      "        listfinal = listfinal + stringlist[i:i+1]*(n//nuniques)\n",
      "    return listfinal\n",
      "\n",
      "def lineDictStandard(color=colors*10,linestyle=linestyles*10,marker='',linewidth=2.5,markersize=10): # every line is a different color and linetype, no markers\n",
      "    keys = ['color','linestyle','marker','linewidth','markersize']\n",
      "    values = [color,linestyle,marker,linewidth,markersize]\n",
      "    return dict(zip(keys,values))\n",
      "    \n",
      "def lineDictAlt1(n,ncolors): # cycle through colors and linestyles, type 1, no markers\n",
      "    # e.g. color = ['k','k','r','r','b','b'], linestyle = ['-','--','-','--','-','--']\n",
      "    linedict = lineDictStandard()\n",
      "    linedict['color'] = alternatingList2(linedict['color'],n,ncolors)\n",
      "    linedict['linestyle'] = alternatingList(linedict['linestyle'],n,n//ncolors)\n",
      "    return linedict\n",
      "    \n",
      "def lineDictAlt2(n,ncolors): # cycle through colors and linestyles, type 2, no markers\n",
      "    # e.g. color = ['k','r','b','k','r','b'], linestyle = ['-','-','-','--','--','--']\n",
      "    linedict = lineDictStandard()\n",
      "    linedict['color'] = alternatingList(linedict['color'],n,ncolors)\n",
      "    linedict['linestyle'] = alternatingList2(linedict['linestyle'],n,n//ncolors)\n",
      "    return linedict\n",
      "\n",
      "def writeNewDict(dict,index):\n",
      "    # constructs specific dictionary from master dictionary\n",
      "    mydict = {}\n",
      "    for key, value in dict.items():\n",
      "        if isinstance(value,list):\n",
      "            if len(value) == 1: # a list of length 1\n",
      "                valuenew = value[0]\n",
      "            else: # list of length n\n",
      "                valuenew = value[index]\n",
      "        else: # not a list, just a singleton\n",
      "            valuenew = value\n",
      "        mydict[key] = valuenew\n",
      "    return mydict"
     ],
     "language": "python",
     "metadata": {},
     "outputs": [],
     "prompt_number": 24
    }
   ],
   "metadata": {}
  }
 ]
}