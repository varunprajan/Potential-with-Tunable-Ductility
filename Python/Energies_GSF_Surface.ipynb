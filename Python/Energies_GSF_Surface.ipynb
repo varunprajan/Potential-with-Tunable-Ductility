{
 "metadata": {
  "name": "",
  "signature": "sha256:6f878d998cf416338635b4a17e9b96304b8d45b135f73b7aa33bb531d6165904"
 },
 "nbformat": 3,
 "nbformat_minor": 0,
 "worksheets": [
  {
   "cells": [
    {
     "cell_type": "code",
     "collapsed": false,
     "input": [
      "%load_ext autoreload\n",
      "%autoreload 2\n",
      "import myio as Mio\n",
      "import numpy as np\n",
      "import lineplot_oo3 as lp\n",
      "import my_plot as myplot\n",
      "import mymath as Mmath\n",
      "import scipy.interpolate as spip\n",
      "import scipy.optimize as spo\n",
      "import mdutilities_io as mduio\n",
      "import itertools as it\n",
      "%matplotlib qt"
     ],
     "language": "python",
     "metadata": {},
     "outputs": [
      {
       "output_type": "stream",
       "stream": "stdout",
       "text": [
        "The autoreload extension is already loaded. To reload it, use:\n",
        "  %reload_ext autoreload\n"
       ]
      }
     ],
     "prompt_number": 13
    },
    {
     "cell_type": "heading",
     "level": 1,
     "metadata": {},
     "source": [
      "Preliminaries"
     ]
    },
    {
     "cell_type": "heading",
     "level": 2,
     "metadata": {},
     "source": [
      "Prefixes/Suffixes"
     ]
    },
    {
     "cell_type": "code",
     "collapsed": false,
     "input": [
      "gsfprefix = 'gsftry_V_'\n",
      "surfprefix = 'surftry_V_'\n",
      "tensprefix = 'tension_V_'\n",
      "compprefix = 'compression_V_'\n",
      "suffix = '.log'"
     ],
     "language": "python",
     "metadata": {},
     "outputs": [],
     "prompt_number": 9
    },
    {
     "cell_type": "heading",
     "level": 2,
     "metadata": {},
     "source": [
      "Plotting Utilities"
     ]
    },
    {
     "cell_type": "code",
     "collapsed": false,
     "input": [
      "def adjust_data(data,fac1,fac2):\n",
      "    res = []\n",
      "    fac = np.array([fac1,fac2])\n",
      "    for datacurr in data:\n",
      "        datanew = np.copy(datacurr)\n",
      "        datanew = datanew*fac\n",
      "        res.append(datanew)\n",
      "    return res\n",
      "\n",
      "def plot_sub(data,fac1,fac2,xlabel,ylabel):\n",
      "    newdata = adjust_data(data,fac1,fac2)\n",
      "    plotobj = lp.LinePlotData.from_dataset(newdata)\n",
      "    fig = myplot.my_plot(plotobj)\n",
      "    myplot.pretty_figure(fig,xlabel='Displacement',ylabel='Energy/area')\n",
      "\n",
      "def energy_plot(data,dim,fac1=1):\n",
      "    if dim == 2:\n",
      "        fac2 = 2**(1/6)\n",
      "    elif dim == 3:\n",
      "        fac2 = 2**(1/3)\n",
      "    plot_sub(data,fac1,fac2,xlabel='Displacement',ylabel='Energy/area')\n",
      "    \n",
      "def tensile_plot(data):\n",
      "    plot_sub(data,fac1=1,fac2=1,xlabel='Tensile strain, $\\epsilon_{yy}$',ylabel='Tensile stress, $\\sigma_{yy}$')\n",
      "    \n",
      "def comp_plot(data):\n",
      "    plot_sub(data,fac1=-1,fac2=-1,xlabel='Compressive strain, $\\epsilon_{yy}$',ylabel='Compressive stress, $\\sigma_{yy}$')"
     ],
     "language": "python",
     "metadata": {},
     "outputs": [],
     "prompt_number": 152
    },
    {
     "cell_type": "code",
     "collapsed": false,
     "input": [
      "def appendPrefixSuffix(mylist,prefix,suffix):\n",
      "    return [prefix + pot + suffix for pot in mylist]"
     ],
     "language": "python",
     "metadata": {},
     "outputs": [],
     "prompt_number": 11
    },
    {
     "cell_type": "heading",
     "level": 1,
     "metadata": {},
     "source": [
      "My Potential (2D)"
     ]
    },
    {
     "cell_type": "heading",
     "level": 2,
     "metadata": {},
     "source": [
      "New Potential"
     ]
    },
    {
     "cell_type": "code",
     "collapsed": false,
     "input": [
      "potlistold = ['ductile','inter1','inter2','inter3','inter4','inter5','brittle']\n",
      "potlist = [pot + 'new' for pot in potlistold]"
     ],
     "language": "python",
     "metadata": {},
     "outputs": [],
     "prompt_number": 15
    },
    {
     "cell_type": "code",
     "collapsed": false,
     "input": [
      "def gen_objects_2d(potlist,prefix,suffix):\n",
      "    filenames = appendPrefixSuffix(potlist,prefix,suffix)\n",
      "    return [mduio.LogFile.LJ_2d(filename) for filename in filenames]"
     ],
     "language": "python",
     "metadata": {},
     "outputs": [],
     "prompt_number": 127
    },
    {
     "cell_type": "heading",
     "level": 3,
     "metadata": {},
     "source": [
      "Energies"
     ]
    },
    {
     "cell_type": "code",
     "collapsed": false,
     "input": [
      "# io is slow...\n",
      "fileobjsgsf2d = gen_objects_2d(potlist,gsfprefix,suffix)\n",
      "fileobjssurf2d = gen_objects_2d(potlist,surfprefix,suffix)"
     ],
     "language": "python",
     "metadata": {},
     "outputs": [],
     "prompt_number": 132
    },
    {
     "cell_type": "code",
     "collapsed": false,
     "input": [
      "gsf2d = [2**(1/6)*obj.usf_energy() for obj in fileobjsgsf2d]\n",
      "surf2d = [2**(1/6)*obj.surface_energy() for obj in fileobjssurf2d]\n",
      "gsfcurves2d = [obj.gsf_energy_curve() for obj in fileobjsgsf2d]\n",
      "surfcurves2d = [obj.surface_energy_curve() for obj in fileobjssurf2d]"
     ],
     "language": "python",
     "metadata": {},
     "outputs": [],
     "prompt_number": 133
    },
    {
     "cell_type": "code",
     "collapsed": false,
     "input": [
      "print(gsf2d)\n",
      "print(surf2d)"
     ],
     "language": "python",
     "metadata": {},
     "outputs": [
      {
       "output_type": "stream",
       "stream": "stdout",
       "text": [
        "[0.15682668334991753, 0.2206823687655701, 0.29638818137839051, 0.38410912295948829, 0.48364019130839786, 0.59097634343568861, 0.71087263038125581]\n",
        "[1.0000057338849211, 1.0000057338849211, 1.0000057338849211, 1.0000057338849211, 1.0000057338849211, 1.0000057338849211, 1.0000057338849211]\n"
       ]
      }
     ],
     "prompt_number": 134
    },
    {
     "cell_type": "code",
     "collapsed": false,
     "input": [
      "energy_plot(gsfcurves2d)"
     ],
     "language": "python",
     "metadata": {},
     "outputs": [],
     "prompt_number": 102
    },
    {
     "cell_type": "code",
     "collapsed": false,
     "input": [
      "energy_plot(surfcurves2d)"
     ],
     "language": "python",
     "metadata": {},
     "outputs": [],
     "prompt_number": 105
    },
    {
     "cell_type": "heading",
     "level": 3,
     "metadata": {},
     "source": [
      "Stress-Strain"
     ]
    },
    {
     "cell_type": "code",
     "collapsed": false,
     "input": [
      "fileobjstens = gen_objects_2d(potlist,tensprefix,suffix)\n",
      "fileobjscomp = gen_objects_2d(potlist,compprefix,suffix)"
     ],
     "language": "python",
     "metadata": {},
     "outputs": [],
     "prompt_number": 129
    },
    {
     "cell_type": "code",
     "collapsed": false,
     "input": [
      "tenscurves2d = [obj.stress_strain_curve(3,6) for obj in fileobjstens]\n",
      "compcurves2d = [obj.stress_strain_curve(3,6) for obj in fileobjscomp]"
     ],
     "language": "python",
     "metadata": {},
     "outputs": [],
     "prompt_number": 122
    },
    {
     "cell_type": "code",
     "collapsed": false,
     "input": [
      "tensile_plot(tenscurves2d)"
     ],
     "language": "python",
     "metadata": {},
     "outputs": [],
     "prompt_number": 124
    },
    {
     "cell_type": "code",
     "collapsed": false,
     "input": [
      "comp_plot(compcurves2d)"
     ],
     "language": "python",
     "metadata": {},
     "outputs": [],
     "prompt_number": 125
    },
    {
     "cell_type": "heading",
     "level": 1,
     "metadata": {},
     "source": [
      "My Potential (3D)"
     ]
    },
    {
     "cell_type": "code",
     "collapsed": false,
     "input": [
      "potlist3dold = ['ductile','inter1','inter2','inter3','inter4','brittle']\n",
      "potlist3d = [pot + '3d' for pot in potlist3dold]"
     ],
     "language": "python",
     "metadata": {},
     "outputs": [],
     "prompt_number": 126
    },
    {
     "cell_type": "code",
     "collapsed": false,
     "input": [
      "def gen_objects_3d(potlist,prefix,suffix):\n",
      "    filenames = appendPrefixSuffix(potlist,prefix,suffix)\n",
      "    return [mduio.LogFile.LJ_3d(filename) for filename in filenames]"
     ],
     "language": "python",
     "metadata": {},
     "outputs": [],
     "prompt_number": 142
    },
    {
     "cell_type": "heading",
     "level": 2,
     "metadata": {},
     "source": [
      "Energies"
     ]
    },
    {
     "cell_type": "code",
     "collapsed": false,
     "input": [
      "# io is slow...\n",
      "fileobjsgsf3d = gen_objects_3d(potlist3d,gsfprefix,suffix)\n",
      "fileobjssurf3d = gen_objects_3d(potlist3d,surfprefix,suffix)"
     ],
     "language": "python",
     "metadata": {},
     "outputs": [],
     "prompt_number": 146
    },
    {
     "cell_type": "code",
     "collapsed": false,
     "input": [
      "gsf3d = [2**(1/3)*obj.usf_energy() for obj in fileobjsgsf3d]\n",
      "surf3d = [2**(1/3)*obj.surface_energy() for obj in fileobjssurf3d]\n",
      "gsfcurves3d = [obj.gsf_energy_curve() for obj in fileobjsgsf3d]\n",
      "surfcurves3d = [obj.surface_energy_curve() for obj in fileobjssurf3d]"
     ],
     "language": "python",
     "metadata": {},
     "outputs": [],
     "prompt_number": 147
    },
    {
     "cell_type": "code",
     "collapsed": false,
     "input": [
      "print(gsf3d)\n",
      "print(surf3d)"
     ],
     "language": "python",
     "metadata": {},
     "outputs": [
      {
       "output_type": "stream",
       "stream": "stdout",
       "text": [
        "[0.35575565574721879, 0.47342673733674495, 0.60683059769757852, 0.75896223829300813, 0.92534719910552887, 1.1109651211223366]\n",
        "[1.7320490390370062, 1.7320490390370062, 1.7320490390370062, 1.7320490390370062, 1.7320490390370062, 1.7320490390370062]\n"
       ]
      }
     ],
     "prompt_number": 148
    },
    {
     "cell_type": "code",
     "collapsed": false,
     "input": [
      "energy_plot(gsfcurves3d,dim=3)"
     ],
     "language": "python",
     "metadata": {},
     "outputs": [],
     "prompt_number": 154
    },
    {
     "cell_type": "code",
     "collapsed": false,
     "input": [
      "energy_plot(surfcurves3d,dim=3)"
     ],
     "language": "python",
     "metadata": {},
     "outputs": [],
     "prompt_number": 155
    },
    {
     "cell_type": "heading",
     "level": 3,
     "metadata": {},
     "source": [
      "New Potential #2 2D (Obsolete)"
     ]
    },
    {
     "cell_type": "code",
     "collapsed": false,
     "input": [
      "potlist = [pot + 'new2' for pot in mdunp.keys2d]"
     ],
     "language": "python",
     "metadata": {},
     "outputs": [
      {
       "ename": "NameError",
       "evalue": "name 'mdunp' is not defined",
       "output_type": "pyerr",
       "traceback": [
        "\u001b[1;31m---------------------------------------------------------------------------\u001b[0m\n\u001b[1;31mNameError\u001b[0m                                 Traceback (most recent call last)",
        "\u001b[1;32m<ipython-input-19-91d67e41a337>\u001b[0m in \u001b[0;36m<module>\u001b[1;34m()\u001b[0m\n\u001b[1;32m----> 1\u001b[1;33m \u001b[0mpotlist\u001b[0m \u001b[1;33m=\u001b[0m \u001b[1;33m[\u001b[0m\u001b[0mpot\u001b[0m \u001b[1;33m+\u001b[0m \u001b[1;34m'new2'\u001b[0m \u001b[1;32mfor\u001b[0m \u001b[0mpot\u001b[0m \u001b[1;32min\u001b[0m \u001b[0mmdunp\u001b[0m\u001b[1;33m.\u001b[0m\u001b[0mkeys2d\u001b[0m\u001b[1;33m]\u001b[0m\u001b[1;33m\u001b[0m\u001b[0m\n\u001b[0m",
        "\u001b[1;31mNameError\u001b[0m: name 'mdunp' is not defined"
       ]
      }
     ],
     "prompt_number": 19
    },
    {
     "cell_type": "code",
     "collapsed": false,
     "input": [
      "filenames = appendPrefixSuffix(potlist,prefix=gsfprefix,suffix=suffix)\n",
      "fun1 = lambda x: mdue.getGSF(x,3,units='LJ',dimensions=2)\n",
      "print(np.array(loopData(filenames,fun1)))\n",
      "\n",
      "filenames = appendPrefixSuffix(potlist,prefix=surfprefix,suffix=suffix)\n",
      "fun2 = lambda x: mdue.getSurfaceEnergy(x,2,units='LJ',dimensions=2)\n",
      "print(np.array(loopData(filenames,fun2)))"
     ],
     "language": "python",
     "metadata": {},
     "outputs": [
      {
       "output_type": "stream",
       "stream": "stdout",
       "text": [
        "[ 0.61218317  0.50682881  0.41163972  0.3262417   0.25048332  0.18461401\n",
        "  0.14801105]\n",
        "[ 0.89090383  0.89090383  0.89090383  0.89090383  0.89090383  0.89090383\n",
        "  0.89090383]"
       ]
      },
      {
       "output_type": "stream",
       "stream": "stdout",
       "text": [
        "\n"
       ]
      }
     ],
     "prompt_number": 32
    },
    {
     "cell_type": "code",
     "collapsed": false,
     "input": [
      "filenames = appendPrefixSuffix(potlist,prefix=gsfprefix,suffix=suffix)\n",
      "fun1 = lambda x: mdue.getGSF(x,1,units='LJ',dimensions=2)\n",
      "gsfPlot(loopData(filenames,fun1))"
     ],
     "language": "python",
     "metadata": {},
     "outputs": [],
     "prompt_number": 47
    },
    {
     "cell_type": "code",
     "collapsed": false,
     "input": [
      "filenames = appendPrefixSuffix(potlist,prefix=surfprefix,suffix=suffix)\n",
      "fun1 = lambda x: mdue.getSurfaceEnergy(x,1,units='LJ',dimensions=2)\n",
      "surfPlot(loopData(filenames,fun1))"
     ],
     "language": "python",
     "metadata": {},
     "outputs": [],
     "prompt_number": 48
    },
    {
     "cell_type": "code",
     "collapsed": false,
     "input": [
      "filenames = appendPrefixSuffix(potlist,prefix=tensprefix,suffix=suffix)\n",
      "fun1 = lambda x: mdue.getStressStrain(x,3,6,units='LJ')\n",
      "data = loopData(filenames,fun1)\n",
      "tensPlot(data)"
     ],
     "language": "python",
     "metadata": {},
     "outputs": [],
     "prompt_number": 50
    },
    {
     "cell_type": "code",
     "collapsed": false,
     "input": [
      "filenames = appendPrefixSuffix(potlist,prefix=compprefix,suffix=suffix)\n",
      "fun1 = lambda x: mdue.getStressStrain(x,3,6,units='LJ')\n",
      "compPlot(loopData(filenames,fun1))"
     ],
     "language": "python",
     "metadata": {},
     "outputs": [],
     "prompt_number": 51
    },
    {
     "cell_type": "heading",
     "level": 3,
     "metadata": {},
     "source": [
      "Warner (Old)"
     ]
    },
    {
     "cell_type": "code",
     "collapsed": false,
     "input": [
      "dataGSFbrittleW = mdue.getGSF('gsftry_Warner_brittle.log',3,dimensions=2,units='LJ')\n",
      "dataGSFductileW = mdue.getGSF('gsftry_Warner_ductile.log',3,dimensions=2,units='LJ')\n",
      "[dataGSFbrittleW,dataGSFductileW]"
     ],
     "language": "python",
     "metadata": {},
     "outputs": [
      {
       "metadata": {},
       "output_type": "pyout",
       "prompt_number": 417,
       "text": [
        "[0.87378056929038639, 0.28358056038130447]"
       ]
      }
     ],
     "prompt_number": 417
    },
    {
     "cell_type": "code",
     "collapsed": false,
     "input": [
      "dataSurfbrittleW = mdue.getSurfaceEnergy('surftry_Warner_brittle.log',2,dimensions=2,units='LJ')\n",
      "dataSurfductileW = mdue.getSurfaceEnergy('surftry_Warner_ductile.log',2,dimensions=2,units='LJ')\n",
      "[dataSurfbrittleW,dataSurfductileW]"
     ],
     "language": "python",
     "metadata": {},
     "outputs": [
      {
       "metadata": {},
       "output_type": "pyout",
       "prompt_number": 419,
       "text": [
        "[0.89089046282685269, 0.89089046282685269]"
       ]
      }
     ],
     "prompt_number": 419
    },
    {
     "cell_type": "code",
     "collapsed": false,
     "input": [
      "datatensbrittleW = mdue.getStressStrain('tension_Warner_brittle.log',3,6,units='LJ')\n",
      "datatensductileW = mdue.getStressStrain('tension_Warner_ductile.log',3,6,units='LJ')\n",
      "lp.linePlot([datatensbrittleW,datatensductileW])"
     ],
     "language": "python",
     "metadata": {},
     "outputs": [],
     "prompt_number": 28
    },
    {
     "cell_type": "code",
     "collapsed": false,
     "input": [
      "datacompbrittleW = mdue.getStressStrain('compression_Warner_brittle.log',3,6,units='LJ')\n",
      "datacompductileW = mdue.getStressStrain('compression_Warner_ductile.log',3,6,units='LJ')\n",
      "lp.linePlot([-datacompbrittleW,-datacompductileW],xlabel='Compressive strain, $\\epsilon_{yy}$',ylabel='Compressive stress, $\\sigma_{yy}$',axis=[0,0.05,0,2],legendlabels=['Brittle','Ductile'])"
     ],
     "language": "python",
     "metadata": {},
     "outputs": [],
     "prompt_number": 31
    },
    {
     "cell_type": "heading",
     "level": 4,
     "metadata": {},
     "source": [
      "Digression (Compute Strain Energy in Strip Test)"
     ]
    },
    {
     "cell_type": "code",
     "collapsed": false,
     "input": [
      "def getG(filename,lattice,Ktarget,h,r0=2**(1/6),subdir='Log_Files/',eindex=1,lengthindex=6):\n",
      "    boxdims = mduio.getBoxDimLogFile(subdir+filename)\n",
      "    Lx, Ly, Lz = boxdims[:,1]-boxdims[:,0]\n",
      "    if lattice == 'hex':\n",
      "        alpha = 3.5\n",
      "        C22est = 3/2*np.sqrt(3)*alpha**2\n",
      "        Gic = 2/r0\n",
      "        Kic = 7.0998\n",
      "        Lz = 1\n",
      "    elif lattice == 'fcc':\n",
      "        alpha = 6.5\n",
      "        C22est = 142.780\n",
      "        Gic = 2*np.sqrt(3)/r0**2\n",
      "        Kic = 17.818\n",
      "    elif lattice == 'hcp':\n",
      "        alpha = 6.5\n",
      "        C22est = 5/np.sqrt(2)*alpha**2/r0\n",
      "        Gic = 2*1.458\n",
      "        Kic = 18.056\n",
      "    data = mduio.getOptimizedConfig(subdir+filename)\n",
      "    strain = (data[:,lengthindex] - data[0,lengthindex])/data[0,lengthindex]\n",
      "    energy = (data[:,eindex] - data[0,eindex])/(Lx*Ly*Lz)\n",
      "    Gtarget = (Ktarget/Kic)**2*Gic\n",
      "    curve = spip.UnivariateSpline(strain,energy*2*h-Gtarget)\n",
      "    stress = Mmath.getDiffVec(strain,energy)\n",
      "    C22 = Mmath.getDiffVec(strain,stress)\n",
      "    eps = curve.roots()\n",
      "    epslinear = np.sqrt(Gtarget/(h*C22est))\n",
      "    print('C22',np.max(C22))\n",
      "    print('C22est',C22est)\n",
      "    print('Gtarget',Gtarget)\n",
      "    print('Ktarget',Ktarget)\n",
      "    print('epslinear',epslinear)\n",
      "    print('eps',eps)"
     ],
     "language": "python",
     "metadata": {},
     "outputs": [],
     "prompt_number": 23
    },
    {
     "cell_type": "code",
     "collapsed": false,
     "input": [
      "data = mduio.getBoxDimLogFile('Log_Files/tension_V_inter5.log')"
     ],
     "language": "python",
     "metadata": {},
     "outputs": [],
     "prompt_number": 20
    },
    {
     "cell_type": "code",
     "collapsed": false,
     "input": [
      "getG('tension_V_brittlenew.log','hex',7.8,1500)"
     ],
     "language": "python",
     "metadata": {},
     "outputs": [
      {
       "output_type": "stream",
       "stream": "stdout",
       "text": [
        "(101,)\n",
        "()\n",
        "C22 34.4200866452\n",
        "C22est 31.8264335891\n",
        "Gtarget 2.150578527679269\n",
        "Ktarget 7.8\n",
        "epslinear 0.00671178499022\n",
        "eps [ 0.00677055]\n"
       ]
      }
     ],
     "prompt_number": 49
    },
    {
     "cell_type": "heading",
     "level": 5,
     "metadata": {},
     "source": [
      "2D"
     ]
    },
    {
     "cell_type": "heading",
     "level": 6,
     "metadata": {},
     "source": [
      "Alternative Way to Compute Energy, Using Stress-Strain"
     ]
    },
    {
     "cell_type": "code",
     "collapsed": false,
     "input": [
      "datanew = mdue.getStressStrain('tension_V_inter5.log',3,6,units='LJ')\n",
      "x = datanew[:,0]\n",
      "y = datanew[:,1]\n",
      "h = 200\n",
      "alpha = 3.5\n",
      "C11 = 9/2*np.sqrt(3)/3*alpha**2\n",
      "mu = C11/3\n",
      "nu = 0.25\n",
      "y2 = C11*x\n",
      "Gtarget = 2.86\n",
      "# Gtarget = (1-nu)*Ktarget**2/(2*mu)\n",
      "Ktarget = np.sqrt(2*mu/(1-nu)*Gtarget)\n",
      "print(Ktarget)\n",
      "curve = spip.UnivariateSpline(x,y)\n",
      "f = lambda x: curve.integral(0,x)*2*h - Gtarget\n",
      "epsres = spo.newton(f,0.02)\n",
      "print(epsres)\n",
      "print(np.sqrt(Gtarget/(h*C11)))\n",
      "print(epsres**2*C11*h)"
     ],
     "language": "python",
     "metadata": {},
     "outputs": [
      {
       "output_type": "stream",
       "stream": "stdout",
       "text": [
        "8.99499120201\n",
        "0.02184051995242429\n",
        "0.0211969820075\n",
        "3.03629467134\n"
       ]
      }
     ],
     "prompt_number": 49
    },
    {
     "cell_type": "code",
     "collapsed": false,
     "input": [
      "getG('tension_V_inter5.log','hex',9.0,200)"
     ],
     "language": "python",
     "metadata": {},
     "outputs": [
      {
       "ename": "ValueError",
       "evalue": "operands could not be broadcast together with shapes (101,) (2,) ",
       "output_type": "pyerr",
       "traceback": [
        "\u001b[1;31m---------------------------------------------------------------------------\u001b[0m\n\u001b[1;31mValueError\u001b[0m                                Traceback (most recent call last)",
        "\u001b[1;32m<ipython-input-5-e9e84f8ac6b7>\u001b[0m in \u001b[0;36m<module>\u001b[1;34m()\u001b[0m\n\u001b[1;32m----> 1\u001b[1;33m \u001b[0mgetG\u001b[0m\u001b[1;33m(\u001b[0m\u001b[1;34m'tension_V_inter5.log'\u001b[0m\u001b[1;33m,\u001b[0m\u001b[1;34m'hex'\u001b[0m\u001b[1;33m,\u001b[0m\u001b[1;36m9.0\u001b[0m\u001b[1;33m,\u001b[0m\u001b[1;36m200\u001b[0m\u001b[1;33m)\u001b[0m\u001b[1;33m\u001b[0m\u001b[0m\n\u001b[0m",
        "\u001b[1;32m<ipython-input-4-74b31da0d010>\u001b[0m in \u001b[0;36mgetG\u001b[1;34m(filename, lattice, Ktarget, h, r0, subdir, eindex, lengthindex)\u001b[0m\n\u001b[0;32m     19\u001b[0m     \u001b[0mdata\u001b[0m \u001b[1;33m=\u001b[0m \u001b[0mmduio\u001b[0m\u001b[1;33m.\u001b[0m\u001b[0mgetOptimizedConfig\u001b[0m\u001b[1;33m(\u001b[0m\u001b[0msubdir\u001b[0m\u001b[1;33m+\u001b[0m\u001b[0mfilename\u001b[0m\u001b[1;33m)\u001b[0m\u001b[1;33m\u001b[0m\u001b[0m\n\u001b[0;32m     20\u001b[0m     \u001b[0mstrain\u001b[0m \u001b[1;33m=\u001b[0m \u001b[1;33m(\u001b[0m\u001b[0mdata\u001b[0m\u001b[1;33m[\u001b[0m\u001b[1;33m:\u001b[0m\u001b[1;33m,\u001b[0m\u001b[0mlengthindex\u001b[0m\u001b[1;33m]\u001b[0m \u001b[1;33m-\u001b[0m \u001b[0mdata\u001b[0m\u001b[1;33m[\u001b[0m\u001b[1;36m0\u001b[0m\u001b[1;33m,\u001b[0m\u001b[0mlengthindex\u001b[0m\u001b[1;33m]\u001b[0m\u001b[1;33m)\u001b[0m\u001b[1;33m/\u001b[0m\u001b[0mdata\u001b[0m\u001b[1;33m[\u001b[0m\u001b[1;36m0\u001b[0m\u001b[1;33m,\u001b[0m\u001b[0mlengthindex\u001b[0m\u001b[1;33m]\u001b[0m\u001b[1;33m\u001b[0m\u001b[0m\n\u001b[1;32m---> 21\u001b[1;33m     \u001b[0menergy\u001b[0m \u001b[1;33m=\u001b[0m \u001b[1;33m(\u001b[0m\u001b[0mdata\u001b[0m\u001b[1;33m[\u001b[0m\u001b[1;33m:\u001b[0m\u001b[1;33m,\u001b[0m\u001b[0meindex\u001b[0m\u001b[1;33m]\u001b[0m \u001b[1;33m-\u001b[0m \u001b[0mdata\u001b[0m\u001b[1;33m[\u001b[0m\u001b[1;36m0\u001b[0m\u001b[1;33m,\u001b[0m\u001b[0meindex\u001b[0m\u001b[1;33m]\u001b[0m\u001b[1;33m)\u001b[0m\u001b[1;33m/\u001b[0m\u001b[1;33m(\u001b[0m\u001b[0mLx\u001b[0m\u001b[1;33m*\u001b[0m\u001b[0mLy\u001b[0m\u001b[1;33m*\u001b[0m\u001b[0mLz\u001b[0m\u001b[1;33m)\u001b[0m\u001b[1;33m\u001b[0m\u001b[0m\n\u001b[0m\u001b[0;32m     22\u001b[0m     \u001b[0mGtarget\u001b[0m \u001b[1;33m=\u001b[0m \u001b[1;33m(\u001b[0m\u001b[0mKtarget\u001b[0m\u001b[1;33m/\u001b[0m\u001b[0mKic\u001b[0m\u001b[1;33m)\u001b[0m\u001b[1;33m**\u001b[0m\u001b[1;36m2\u001b[0m\u001b[1;33m*\u001b[0m\u001b[0mGic\u001b[0m\u001b[1;33m\u001b[0m\u001b[0m\n\u001b[0;32m     23\u001b[0m     \u001b[0mcurve\u001b[0m \u001b[1;33m=\u001b[0m \u001b[0mspip\u001b[0m\u001b[1;33m.\u001b[0m\u001b[0mUnivariateSpline\u001b[0m\u001b[1;33m(\u001b[0m\u001b[0mstrain\u001b[0m\u001b[1;33m,\u001b[0m\u001b[0menergy\u001b[0m\u001b[1;33m*\u001b[0m\u001b[1;36m2\u001b[0m\u001b[1;33m*\u001b[0m\u001b[0mh\u001b[0m\u001b[1;33m-\u001b[0m\u001b[0mGtarget\u001b[0m\u001b[1;33m)\u001b[0m\u001b[1;33m\u001b[0m\u001b[0m\n",
        "\u001b[1;31mValueError\u001b[0m: operands could not be broadcast together with shapes (101,) (2,) "
       ]
      }
     ],
     "prompt_number": 5
    },
    {
     "cell_type": "heading",
     "level": 5,
     "metadata": {},
     "source": [
      "3D"
     ]
    },
    {
     "cell_type": "code",
     "collapsed": false,
     "input": [
      "getG('tension_V_brittle3d_twin.log','fcc',20.0,125)"
     ],
     "language": "python",
     "metadata": {},
     "outputs": [
      {
       "output_type": "stream",
       "stream": "stdout",
       "text": [
        "C22 149.535210686\n",
        "C22est 142.78\n",
        "Gtarget 3.46409164659\n",
        "Ktarget 20.0\n",
        "epslinear 0.013931760224\n",
        "eps [ 0.01447281]\n"
       ]
      }
     ],
     "prompt_number": 3
    },
    {
     "cell_type": "code",
     "collapsed": false,
     "input": [
      "getG('tension_V_brittle3d_hcp.log','hcp',29.46,125)"
     ],
     "language": "python",
     "metadata": {},
     "outputs": [
      {
       "output_type": "stream",
       "stream": "stdout",
       "text": [
        "C22 141.252213569\n",
        "C22est 133.079160895\n",
        "Gtarget 7.762648342212649\n",
        "Ktarget 29.46\n",
        "epslinear 0.0216020478052\n",
        "eps [ 0.02310238]\n"
       ]
      }
     ],
     "prompt_number": 22
    },
    {
     "cell_type": "code",
     "collapsed": false,
     "input": [],
     "language": "python",
     "metadata": {},
     "outputs": []
    }
   ],
   "metadata": {}
  }
 ]
}